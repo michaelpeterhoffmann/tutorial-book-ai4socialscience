{
  "nbformat": 4,
  "nbformat_minor": 0,
  "metadata": {
    "colab": {
      "provenance": []
    },
    "kernelspec": {
      "name": "python3",
      "display_name": "Python 3"
    },
    "language_info": {
      "name": "python"
    }
  },
  "cells": [
    {
      "cell_type": "code",
      "execution_count": null,
      "metadata": {
        "id": "DIJM8IZ1ivA4"
      },
      "outputs": [],
      "source": [
        "pip install langchain"
      ]
    },
    {
      "cell_type": "code",
      "source": [
        "pip install openai"
      ],
      "metadata": {
        "id": "muwCJyb0jBPT"
      },
      "execution_count": null,
      "outputs": []
    },
    {
      "cell_type": "code",
      "source": [
        "import os\n",
        "os.environ[\"OPENAI_API_KEY\"] = \"\""
      ],
      "metadata": {
        "id": "9J745IIGjBMN"
      },
      "execution_count": 3,
      "outputs": []
    },
    {
      "cell_type": "code",
      "source": [
        "from langchain.llms import OpenAI"
      ],
      "metadata": {
        "id": "gcks8OWMjBHb"
      },
      "execution_count": 4,
      "outputs": []
    },
    {
      "cell_type": "code",
      "source": [
        "llm=OpenAI(temperature=0.9)"
      ],
      "metadata": {
        "id": "za1XxEeqjBA3"
      },
      "execution_count": 5,
      "outputs": []
    },
    {
      "cell_type": "code",
      "source": [
        "text = \"Give me a reading list for the anthropology of videogames\""
      ],
      "metadata": {
        "id": "eRGAUfOPjA4p"
      },
      "execution_count": 6,
      "outputs": []
    },
    {
      "cell_type": "code",
      "source": [
        "print(llm(text))"
      ],
      "metadata": {
        "colab": {
          "base_uri": "https://localhost:8080/"
        },
        "id": "PRNnlt2UjpTH",
        "outputId": "f280c466-3c3c-4bc8-caa9-4b9976612f7c"
      },
      "execution_count": 7,
      "outputs": [
        {
          "output_type": "stream",
          "name": "stdout",
          "text": [
            "\n",
            "\n",
            "1. A Casual Revolution: Reinventing Video Games and Their Players - Miguel Sicart \n",
            "2. Digital Play: The Interaction of Technology, Culture, and Marketing - Stephen Kline, Nick Dyer-Witheford, and Greig de Peuter \n",
            "3. Race, Gender, and Deviance in Xbox Live: Theoretical Perspectives from the Virtual Margins - Alenda Chang \n",
            "4. Critical Play: Radical Game Design - Mary Flanagan \n",
            "5. Ethnography and Virtual Worlds: A Handbook of Method - Tom Boellstorff, Bonnie Nardi, Celia Pearce, and T.L. Taylor \n",
            "6. Gaming Matters: Art, Science, Magic and Technology in Video Games - Katrien Jacobs \n",
            "7. Of Play and Programming: Videogames, Technology, and Culture - Helen Kennedy \n",
            "8. Just Play: Games, Practices, and the Learning of Social Worlds - Paul Dowie \n",
            "9. Adventures in Cyberspace: Culture and Politics on the Electronic Frontier - Arthur Berger and Michael Maguire \n",
            "10. The Video Game Theory Reader - Mark J.P. Wolf and Bernard Perron\n"
          ]
        }
      ]
    },
    {
      "cell_type": "markdown",
      "source": [
        "Prompt **templates**"
      ],
      "metadata": {
        "id": "wsygUNoOj39A"
      }
    },
    {
      "cell_type": "code",
      "source": [
        "from langchain.prompts import PromptTemplate"
      ],
      "metadata": {
        "id": "Q9m9tGNCj6Xo"
      },
      "execution_count": 8,
      "outputs": []
    },
    {
      "cell_type": "code",
      "source": [
        "prompt = PromptTemplate(\n",
        "    input_variables=[\"topic\"],\n",
        "    template = \"What are the 5 essential readings for someone interested in {topic}\",\n",
        ")"
      ],
      "metadata": {
        "id": "EEuRtNUNkA95"
      },
      "execution_count": 10,
      "outputs": []
    },
    {
      "cell_type": "code",
      "source": [
        "print(prompt.format(topic=\"anthropology of industrial labor\"))"
      ],
      "metadata": {
        "id": "Of0x7gtlkXbt",
        "colab": {
          "base_uri": "https://localhost:8080/"
        },
        "outputId": "b59ebf0b-ac2a-4fe4-a41c-262e1bad311e"
      },
      "execution_count": 11,
      "outputs": [
        {
          "output_type": "stream",
          "name": "stdout",
          "text": [
            "What are the 5 essential readings for someone interested in anthropology of industrial labor\n"
          ]
        }
      ]
    },
    {
      "cell_type": "code",
      "source": [
        "print(llm(prompt.format(topic = \"anthropology of industrial labor\")))"
      ],
      "metadata": {
        "colab": {
          "base_uri": "https://localhost:8080/"
        },
        "id": "AHF0PupPkXXk",
        "outputId": "8ef01d51-8b73-41ee-84a9-d45643b920cf"
      },
      "execution_count": 12,
      "outputs": [
        {
          "output_type": "stream",
          "name": "stdout",
          "text": [
            "?\n",
            "\n",
            "1. Industrial Societies: Class, Cleavage, and Control by Jean Cohen and Andrew Arato\n",
            "2. Globalization and Its Discontents: Workers and the Struggle for Social Justice by Immanuel Ness \n",
            "3. The Great Divergence: Inequality and Industrial Revolution by Kenneth Pomeranz \n",
            "4. Manufacturing Consent: The Political Economy of the Mass Media by Edward Herman and Noam Chomsky\n",
            "5. Worked Over: The Corporate Sabotage of an American Community by Dimitrios Roussopoulos\n"
          ]
        }
      ]
    },
    {
      "cell_type": "markdown",
      "source": [
        "Chains: Combine LLMs and prompts in multi-step workflows"
      ],
      "metadata": {
        "id": "tM64CSeSla_Y"
      }
    },
    {
      "cell_type": "code",
      "source": [
        "from langchain.prompts import PromptTemplate\n",
        "from langchain.llms import OpenAI\n",
        "from langchain.chains import LLMChain"
      ],
      "metadata": {
        "id": "ji-0Q7wXkXTq"
      },
      "execution_count": 13,
      "outputs": []
    },
    {
      "cell_type": "code",
      "source": [
        "llm = OpenAI(temperature=0.9)\n",
        "prompt = PromptTemplate(\n",
        "    input_variables = [\"topic\"],\n",
        "    template = \"What are 5 must have readings for someone who is interested in the topic of {topic}?\",\n",
        ")"
      ],
      "metadata": {
        "id": "5cTsNAxTkXQb"
      },
      "execution_count": 14,
      "outputs": []
    },
    {
      "cell_type": "code",
      "source": [
        "chain = LLMChain(llm = llm, prompt = prompt)"
      ],
      "metadata": {
        "id": "kWIKznVckXMH"
      },
      "execution_count": 15,
      "outputs": []
    },
    {
      "cell_type": "code",
      "source": [
        "print(chain.run(\"the anthropology of videogames\"))"
      ],
      "metadata": {
        "id": "v-0OjO31mSzn",
        "colab": {
          "base_uri": "https://localhost:8080/"
        },
        "outputId": "ae08cd48-2a34-4fee-b8d6-0171521494ec"
      },
      "execution_count": 16,
      "outputs": [
        {
          "output_type": "stream",
          "name": "stdout",
          "text": [
            "\n",
            "\n",
            "1. \"The Anthropology of Videogames\" by Zachary P. O’Grady \n",
            "2. \"Video Games and Cultural Anthropology\" by Hal Kantor \n",
            "3. \"The Anthropology of Videogames: Living in Digital Worlds\" by Ian Bogost \n",
            "4. \"The Game Culture Reader: A Study in History, Theory, and Analysis\" edited by Darren Wershler-Henry \n",
            "5. \"Anthropology and Virtual Worlds: Studying Online Game Culture\" by Carla S. Fisher\n"
          ]
        }
      ]
    }
  ]
}